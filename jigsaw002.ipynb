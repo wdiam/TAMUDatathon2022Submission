{
 "cells": [
  {
   "cell_type": "markdown",
   "id": "4e612f49",
   "metadata": {},
   "source": [
    "# Setup"
   ]
  },
  {
   "cell_type": "code",
   "execution_count": 124,
   "id": "c25467ca",
   "metadata": {},
   "outputs": [],
   "source": [
    "import numpy as np\n",
    "import pandas as pd\n",
    "import mnist\n",
    "from tensorflow import keras\n",
    "\n",
    "from tensorflow.keras.utils import load_img, img_to_array\n",
    "\n",
    "from itertools import permutations\n",
    "from glob import glob"
   ]
  },
  {
   "cell_type": "markdown",
   "id": "c093a361",
   "metadata": {},
   "source": [
    "# Preparing the Data"
   ]
  },
  {
   "cell_type": "code",
   "execution_count": 5,
   "id": "d90c3210",
   "metadata": {},
   "outputs": [],
   "source": [
    "from glob import glob\n",
    "image_paths = glob(\"/Users/neuropunk/Documents/_source/_datawrangler/TAMUDatathon2022/imagepuzzle/train/*/*\")"
   ]
  },
  {
   "cell_type": "code",
   "execution_count": 25,
   "id": "4d89778f",
   "metadata": {},
   "outputs": [],
   "source": [
    "# I want 10% of the data to be test\n",
    "train_image_paths = [x[1] for x in filter(lambda x: x[0] % 10 != 0, enumerate(image_paths))]\n",
    "test_image_paths = [x[1] for x in filter(lambda x: x[0] % 10 == 0, enumerate(image_paths))]"
   ]
  },
  {
   "cell_type": "code",
   "execution_count": 35,
   "id": "5af61233",
   "metadata": {},
   "outputs": [],
   "source": [
    "def get_4d_image_array(image_paths):\n",
    "    images = []\n",
    "    for image_path in image_paths:\n",
    "        img = load_img(f'{image_path}', target_size=(128, 128))\n",
    "        img_array = img_to_array(img)\n",
    "        images.append(img_array)\n",
    "    return np.stack(images, axis=0)"
   ]
  },
  {
   "cell_type": "code",
   "execution_count": 36,
   "id": "dd71bf4d",
   "metadata": {},
   "outputs": [],
   "source": [
    "train_images = get_4d_image_array(train_image_paths)\n",
    "test_images = get_4d_image_array(test_image_paths)"
   ]
  },
  {
   "cell_type": "code",
   "execution_count": 45,
   "id": "973c4e47",
   "metadata": {},
   "outputs": [],
   "source": [
    "combs = [''.join(str(x) for x in comb) for comb in list(permutations(range(0, 4)))]\n",
    "idx_to_comb_map = dict(enumerate(combs))\n",
    "comb_to_idx_map = dict([(v, k) for k,v in idx_to_comb_map.items()])     "
   ]
  },
  {
   "cell_type": "code",
   "execution_count": 53,
   "id": "5ab4850d",
   "metadata": {},
   "outputs": [],
   "source": [
    "def get_labels(image_paths):\n",
    "    return np.array([comb_to_idx_map[x.split(\"/\")[-2]] for x in image_paths])\n",
    "\n",
    "train_labels = get_labels(train_image_paths)\n",
    "test_labels = get_labels(test_image_paths)"
   ]
  },
  {
   "cell_type": "code",
   "execution_count": 57,
   "id": "d4873237",
   "metadata": {},
   "outputs": [
    {
     "name": "stdout",
     "output_type": "stream",
     "text": [
      "(44755, 128, 128, 3)\n",
      "(4973, 128, 128, 3)\n"
     ]
    }
   ],
   "source": [
    "print(train_images.shape) # (60000, 28, 28, 1)\n",
    "print(test_images.shape)  # (10000, 28, 28, 1)"
   ]
  },
  {
   "cell_type": "markdown",
   "id": "c8694ab6",
   "metadata": {},
   "source": [
    "# Building Model"
   ]
  },
  {
   "cell_type": "code",
   "execution_count": 158,
   "id": "2afda15a",
   "metadata": {},
   "outputs": [],
   "source": [
    "from tensorflow.keras.models import Sequential\n",
    "from tensorflow.keras.layers import Conv2D, MaxPooling2D, Dense, Flatten, Dropout, ZeroPadding2D\n",
    "from tensorflow.keras.utils import to_categorical\n",
    "from tensorflow.keras.callbacks import ModelCheckpoint\n",
    "\n",
    "# TOY MODEL\n",
    "num_filters = 50\n",
    "filter_size = 3\n",
    "pool_size = 2\n",
    "\n",
    "model = Sequential([\n",
    "    Conv2D(num_filters, filter_size, input_shape=(128, 128, 3)),\n",
    "    MaxPooling2D(pool_size=pool_size),\n",
    "    Flatten(),\n",
    "    Dense(64, activation='relu'),\n",
    "    Dense(24, activation='softmax')\n",
    "])\n",
    "\n",
    "# LESS TOY MODEL\n",
    "model = Sequential([\n",
    "    ZeroPadding2D(5, input_shape=(128,128,3)),  # extra padding\n",
    "\n",
    "    Conv2D(64, kernel_size=(5,5), padding='same', activation='relu', strides=2),\n",
    "    BatchNormalization(),\n",
    "    MaxPooling2D(),\n",
    "    \n",
    "    Conv2D(128, kernel_size=(5,5), padding='same', activation='relu', strides=2),\n",
    "    BatchNormalization(),\n",
    "    Dropout(0.3),\n",
    "    \n",
    "    Conv2D(128, kernel_size=(5,5), padding='same', activation='relu', strides=2),\n",
    "    BatchNormalization(),\n",
    "    Dropout(0.3),    \n",
    "    \n",
    "    Conv2D(128, kernel_size=(3,3), padding='same', activation='relu', strides=2),\n",
    "    BatchNormalization(),\n",
    "    Dropout(0.3),\n",
    "    \n",
    "    Conv2D(128, kernel_size=(3,3), padding='same', activation='relu', strides=1),\n",
    "    BatchNormalization(),\n",
    "    Dropout(0.3),       \n",
    "\n",
    "    Flatten(), # combining all features\n",
    "    \n",
    "    Dense(1024, activation='relu'),\n",
    "    BatchNormalization(),\n",
    "    Dense(512, activation='relu'),\n",
    "    BatchNormalization(),\n",
    "    Dropout(0.3),\n",
    "    Dense(24, activation='softmax')\n",
    "])\n",
    "\n",
    "\n",
    "model.compile(\n",
    "    'adam',\n",
    "    loss='categorical_crossentropy',\n",
    "    metrics='accuracy'\n",
    ")\n",
    "\n",
    "filepath1 = \"best_model.h5\"\n",
    "checkpoint = ModelCheckpoint(filepath1, \n",
    "                             monitor='val_accuracy',\n",
    "                             verbose=1,\n",
    "                             save_best_only=True, \n",
    "                             mode='max')\n",
    "callbacks_list = [checkpoint]"
   ]
  },
  {
   "cell_type": "markdown",
   "id": "3c2406a3",
   "metadata": {},
   "source": [
    "# Fitting"
   ]
  },
  {
   "cell_type": "code",
   "execution_count": 148,
   "id": "50f49180",
   "metadata": {},
   "outputs": [
    {
     "name": "stdout",
     "output_type": "stream",
     "text": [
      "Epoch 1/10\n",
      "700/700 [==============================] - ETA: 0s - loss: 1.1962 - accuracy: 0.6250\n",
      "Epoch 1: val_accuracy improved from -inf to 0.73316, saving model to best_model.h5\n",
      "700/700 [==============================] - 367s 521ms/step - loss: 1.1962 - accuracy: 0.6250 - val_loss: 0.9211 - val_accuracy: 0.7332\n",
      "Epoch 2/10\n",
      "700/700 [==============================] - ETA: 0s - loss: 0.6058 - accuracy: 0.7904\n",
      "Epoch 2: val_accuracy did not improve from 0.73316\n",
      "700/700 [==============================] - 584s 835ms/step - loss: 0.6058 - accuracy: 0.7904 - val_loss: 2.7231 - val_accuracy: 0.4080\n",
      "Epoch 3/10\n",
      "700/700 [==============================] - ETA: 0s - loss: 0.4460 - accuracy: 0.8434\n",
      "Epoch 3: val_accuracy improved from 0.73316 to 0.82345, saving model to best_model.h5\n",
      "700/700 [==============================] - 326s 466ms/step - loss: 0.4460 - accuracy: 0.8434 - val_loss: 0.5365 - val_accuracy: 0.8234\n",
      "Epoch 4/10\n",
      "700/700 [==============================] - ETA: 0s - loss: 0.3640 - accuracy: 0.8716\n",
      "Epoch 4: val_accuracy improved from 0.82345 to 0.87231, saving model to best_model.h5\n",
      "700/700 [==============================] - 324s 463ms/step - loss: 0.3640 - accuracy: 0.8716 - val_loss: 0.3582 - val_accuracy: 0.8723\n",
      "Epoch 5/10\n",
      "700/700 [==============================] - ETA: 0s - loss: 0.3075 - accuracy: 0.8893\n",
      "Epoch 5: val_accuracy improved from 0.87231 to 0.89443, saving model to best_model.h5\n",
      "700/700 [==============================] - 325s 463ms/step - loss: 0.3075 - accuracy: 0.8893 - val_loss: 0.3281 - val_accuracy: 0.8944\n",
      "Epoch 6/10\n",
      "700/700 [==============================] - ETA: 0s - loss: 0.2706 - accuracy: 0.9038\n",
      "Epoch 6: val_accuracy did not improve from 0.89443\n",
      "700/700 [==============================] - 322s 460ms/step - loss: 0.2706 - accuracy: 0.9038 - val_loss: 0.4547 - val_accuracy: 0.8582\n",
      "Epoch 7/10\n",
      "700/700 [==============================] - ETA: 0s - loss: 0.2369 - accuracy: 0.9153\n",
      "Epoch 7: val_accuracy did not improve from 0.89443\n",
      "700/700 [==============================] - 324s 462ms/step - loss: 0.2369 - accuracy: 0.9153 - val_loss: 0.3267 - val_accuracy: 0.8920\n",
      "Epoch 8/10\n",
      "700/700 [==============================] - ETA: 0s - loss: 0.2170 - accuracy: 0.9227\n",
      "Epoch 8: val_accuracy improved from 0.89443 to 0.90227, saving model to best_model.h5\n",
      "700/700 [==============================] - 323s 461ms/step - loss: 0.2170 - accuracy: 0.9227 - val_loss: 0.2874 - val_accuracy: 0.9023\n",
      "Epoch 9/10\n",
      "700/700 [==============================] - ETA: 0s - loss: 0.1944 - accuracy: 0.9295\n",
      "Epoch 9: val_accuracy improved from 0.90227 to 0.91755, saving model to best_model.h5\n",
      "700/700 [==============================] - 325s 464ms/step - loss: 0.1944 - accuracy: 0.9295 - val_loss: 0.2462 - val_accuracy: 0.9176\n",
      "Epoch 10/10\n",
      "700/700 [==============================] - ETA: 0s - loss: 0.1782 - accuracy: 0.9370\n",
      "Epoch 10: val_accuracy improved from 0.91755 to 0.91776, saving model to best_model.h5\n",
      "700/700 [==============================] - 325s 464ms/step - loss: 0.1782 - accuracy: 0.9370 - val_loss: 0.2498 - val_accuracy: 0.9178\n"
     ]
    },
    {
     "data": {
      "text/plain": [
       "<keras.callbacks.History at 0x13f3bdf30>"
      ]
     },
     "execution_count": 148,
     "metadata": {},
     "output_type": "execute_result"
    }
   ],
   "source": [
    "model.fit(\n",
    "    train_images,\n",
    "    to_categorical(train_labels),\n",
    "    epochs=10,\n",
    "    batch_size=64,\n",
    "    validation_data=(test_images, to_categorical(test_labels)),\n",
    "    callbacks=callbacks_list\n",
    ")"
   ]
  },
  {
   "cell_type": "markdown",
   "id": "0807bbaa",
   "metadata": {},
   "source": [
    "# Saving Model"
   ]
  },
  {
   "cell_type": "code",
   "execution_count": 161,
   "id": "57934155",
   "metadata": {},
   "outputs": [],
   "source": [
    "#model.save(\"bleh.h5\")\n",
    "reconstructed_model = keras.models.load_model(\"best_model.h5\")"
   ]
  },
  {
   "cell_type": "code",
   "execution_count": 149,
   "id": "9a2d15da",
   "metadata": {},
   "outputs": [],
   "source": [
    "baseline_model = keras.models.load_model('example_model.h5')"
   ]
  },
  {
   "cell_type": "markdown",
   "id": "47d6dac7",
   "metadata": {},
   "source": [
    "# Sanity Check of Model"
   ]
  },
  {
   "cell_type": "code",
   "execution_count": 162,
   "id": "d30c17e9",
   "metadata": {
    "scrolled": true
   },
   "outputs": [
    {
     "name": "stdout",
     "output_type": "stream",
     "text": [
      "1/1 [==============================] - 0s 34ms/step\n",
      "prediction: 3021 actual: 3120\n"
     ]
    }
   ],
   "source": [
    "testIdx = 3005\n",
    "predCombIdx = np.argmax(model.predict(train_images[testIdx:(testIdx+1),:,:,:]))\n",
    "print(\"prediction:\", idx_to_comb_map[predCombIdx], \"actual:\", idx_to_comb_map[test_labels[testIdx]])"
   ]
  },
  {
   "cell_type": "code",
   "execution_count": 163,
   "id": "5657852a",
   "metadata": {},
   "outputs": [
    {
     "name": "stdout",
     "output_type": "stream",
     "text": [
      "156/156 [==============================] - 15s 96ms/step\n"
     ]
    },
    {
     "data": {
      "text/plain": [
       "0.9177558817615121"
      ]
     },
     "execution_count": 163,
     "metadata": {},
     "output_type": "execute_result"
    }
   ],
   "source": [
    "predictions = reconstructed_model.predict(test_images)\n",
    "\n",
    "df = pd.concat([\n",
    "    pd.Series(np.argmax(predictions, axis=1) == test_labels, name=\"matched\"),\n",
    "    pd.Series([idx_to_comb_map[x] for x in test_labels], name=\"comb\"),\n",
    "\n",
    "], axis=1)\n",
    "\n",
    "df.matched.mean()"
   ]
  },
  {
   "cell_type": "code",
   "execution_count": 164,
   "id": "a4f01704",
   "metadata": {},
   "outputs": [
    {
     "name": "stdout",
     "output_type": "stream",
     "text": [
      "156/156 [==============================] - 17s 108ms/step\n"
     ]
    },
    {
     "data": {
      "text/plain": [
       "0.06635833500904886"
      ]
     },
     "execution_count": 164,
     "metadata": {},
     "output_type": "execute_result"
    }
   ],
   "source": [
    "predictions = baseline_model.predict(test_images)\n",
    "\n",
    "df = pd.concat([\n",
    "    pd.Series(np.argmax(predictions, axis=1) == test_labels, name=\"matched\"),\n",
    "    pd.Series([idx_to_comb_map[x] for x in test_labels], name=\"comb\"),\n",
    "\n",
    "], axis=1)\n",
    "\n",
    "df.matched.mean()"
   ]
  },
  {
   "cell_type": "markdown",
   "id": "5c7dc0b4",
   "metadata": {},
   "source": [
    "# Accuracy over Validation Set Partitioned by Combinations"
   ]
  },
  {
   "cell_type": "code",
   "execution_count": 165,
   "id": "9fef92f7",
   "metadata": {},
   "outputs": [
    {
     "name": "stdout",
     "output_type": "stream",
     "text": [
      "156/156 [==============================] - 17s 108ms/step\n"
     ]
    }
   ],
   "source": [
    "predictions = reconstructed_model.predict(test_images)\n",
    "\n",
    "df = pd.concat([\n",
    "    pd.Series(np.argmax(predictions, axis=1) == test_labels, name=\"matched\"),\n",
    "    pd.Series([idx_to_comb_map[x] for x in test_labels], name=\"comb\"),\n",
    "\n",
    "], axis=1)"
   ]
  },
  {
   "cell_type": "code",
   "execution_count": 166,
   "id": "48f6f816",
   "metadata": {},
   "outputs": [
    {
     "data": {
      "text/plain": [
       "comb\n",
       "0123    0.980676\n",
       "0132    0.961353\n",
       "0213    0.937198\n",
       "0231    0.937198\n",
       "0312    0.961353\n",
       "0321    0.985577\n",
       "1023    0.966184\n",
       "1032    0.951691\n",
       "1203    0.985507\n",
       "1230    0.995169\n",
       "1302    0.811594\n",
       "1320    0.888889\n",
       "2013    0.754808\n",
       "2031    0.826923\n",
       "2103    0.927536\n",
       "2130    0.855072\n",
       "2301    0.946860\n",
       "2310    0.879808\n",
       "3012    0.792271\n",
       "3021    0.888889\n",
       "3102    0.961353\n",
       "3120    0.859903\n",
       "3201    0.990338\n",
       "3210    0.980769\n",
       "Name: matched, dtype: float64"
      ]
     },
     "execution_count": 166,
     "metadata": {},
     "output_type": "execute_result"
    }
   ],
   "source": [
    "df.groupby(\"comb\").matched.mean()"
   ]
  },
  {
   "cell_type": "code",
   "execution_count": null,
   "id": "4f03fd11",
   "metadata": {},
   "outputs": [],
   "source": []
  }
 ],
 "metadata": {
  "kernelspec": {
   "display_name": "Python 3 (ipykernel)",
   "language": "python",
   "name": "python3"
  },
  "language_info": {
   "codemirror_mode": {
    "name": "ipython",
    "version": 3
   },
   "file_extension": ".py",
   "mimetype": "text/x-python",
   "name": "python",
   "nbconvert_exporter": "python",
   "pygments_lexer": "ipython3",
   "version": "3.10.6"
  }
 },
 "nbformat": 4,
 "nbformat_minor": 5
}
